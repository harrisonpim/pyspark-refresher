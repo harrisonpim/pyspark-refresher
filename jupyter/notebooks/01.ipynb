{
 "cells": [
  {
   "cell_type": "code",
   "execution_count": null,
   "id": "a69d6f9d-1747-4297-8e1a-365a94b2c6b2",
   "metadata": {},
   "outputs": [],
   "source": [
    "import os\n",
    "\n",
    "import pyspark\n",
    "from pyspark.sql import SparkSession, SQLContext"
   ]
  },
  {
   "cell_type": "code",
   "execution_count": null,
   "id": "2b6d6487-762c-41b7-8c3c-631edad09b04",
   "metadata": {},
   "outputs": [],
   "source": [
    "sc = (\n",
    "    SparkSession.builder.master(\"spark://spark:7077\")\n",
    "    .appName(\"sparkRefresher\")\n",
    "    .getOrCreate()\n",
    ")"
   ]
  },
  {
   "cell_type": "code",
   "execution_count": null,
   "id": "9fadee3e-6a1e-4707-9761-b998f71fc886",
   "metadata": {},
   "outputs": [],
   "source": [
    "sqlContext = SQLContext(sparkContext=sc.sparkContext, sparkSession=sc)"
   ]
  },
  {
   "cell_type": "code",
   "execution_count": null,
   "id": "f38404fc-f89f-47cc-9ad9-2300ab2db2b9",
   "metadata": {},
   "outputs": [],
   "source": [
    "print(\"Spark Version: \" + sc.version)\n",
    "print(\"PySpark Version: \" + pyspark.__version__)"
   ]
  },
  {
   "cell_type": "code",
   "execution_count": null,
   "id": "62d0650c-a85c-4fe9-b002-81bca9af3a04",
   "metadata": {},
   "outputs": [],
   "source": [
    "df = sqlContext.createDataFrame(\n",
    "    [(1, \"foo\"), (2, \"bar\")], [\"key\", \"value\"]\n",
    ")\n",
    "\n",
    "df.show()"
   ]
  },
  {
   "cell_type": "code",
   "execution_count": null,
   "id": "20b8a69f-5110-45fd-b795-e9823bdfc6d6",
   "metadata": {},
   "outputs": [],
   "source": []
  }
 ],
 "metadata": {
  "kernelspec": {
   "display_name": "Python 3 (ipykernel)",
   "language": "python",
   "name": "python3"
  },
  "language_info": {
   "codemirror_mode": {
    "name": "ipython",
    "version": 3
   },
   "file_extension": ".py",
   "mimetype": "text/x-python",
   "name": "python",
   "nbconvert_exporter": "python",
   "pygments_lexer": "ipython3",
   "version": "3.8.8"
  }
 },
 "nbformat": 4,
 "nbformat_minor": 5
}
