{
 "cells": [
  {
   "cell_type": "code",
   "execution_count": null,
   "id": "67b202cc-c5fa-4a7b-9412-08efcbc664ec",
   "metadata": {},
   "outputs": [],
   "source": [
    "from datetime import date, datetime\n",
    "\n",
    "import pandas as pd\n",
    "from pyspark.sql import Row, SparkSession\n",
    "\n",
    "spark = SparkSession.builder.getOrCreate()\n",
    "spark.conf.set(\"spark.sql.repl.eagerEval.enabled\", True)\n",
    "spark.conf.set(\"spark.sql.repl.eagerEval.maxNumRows\", 5)"
   ]
  },
  {
   "cell_type": "markdown",
   "id": "5be13649-7a46-4847-94c2-bd6f193c503b",
   "metadata": {
    "tags": []
   },
   "source": [
    "### reading data"
   ]
  },
  {
   "cell_type": "code",
   "execution_count": null,
   "id": "44802d37-7039-4deb-a12a-ac44fcebdd2d",
   "metadata": {},
   "outputs": [],
   "source": [
    "df = spark.read.csv(\"../data/titanic.csv\", header=True, inferSchema=True)"
   ]
  },
  {
   "cell_type": "code",
   "execution_count": null,
   "id": "75e2adbf-f470-4b9c-bf69-67a2a01960fa",
   "metadata": {},
   "outputs": [],
   "source": [
    "df.printSchema()"
   ]
  },
  {
   "cell_type": "code",
   "execution_count": null,
   "id": "25a24a49-b76a-4dc4-b4e1-b344d255666b",
   "metadata": {},
   "outputs": [],
   "source": [
    "df"
   ]
  },
  {
   "cell_type": "code",
   "execution_count": null,
   "id": "d359d53d-b33d-4a02-ba6a-45cd5afb5b5c",
   "metadata": {},
   "outputs": [],
   "source": [
    "df.select('Pclass', 'Sex').limit(20).show()"
   ]
  },
  {
   "cell_type": "code",
   "execution_count": null,
   "id": "522766c2-0037-458b-b0b3-1cddeeaaa553",
   "metadata": {},
   "outputs": [],
   "source": [
    "old_men = df.where((df.Sex == 'male') & (df.Age > 60))\n",
    "old_men.select('Name')"
   ]
  },
  {
   "cell_type": "code",
   "execution_count": null,
   "id": "79758088-0864-41d2-87eb-8f6b88703433",
   "metadata": {},
   "outputs": [],
   "source": [
    "old_men.count()"
   ]
  },
  {
   "cell_type": "code",
   "execution_count": null,
   "id": "edee4925-993c-4daf-aad8-3565700e428d",
   "metadata": {},
   "outputs": [],
   "source": [
    "df.agg({'Fare': 'Avg'})"
   ]
  },
  {
   "cell_type": "code",
   "execution_count": null,
   "id": "49f4b344-f412-439d-b6a7-99b157388f3f",
   "metadata": {},
   "outputs": [],
   "source": [
    "df.groupBy('Pclass').agg({'Fare':'Avg'}).orderBy('Pclass', ascending=False)"
   ]
  },
  {
   "cell_type": "code",
   "execution_count": null,
   "id": "de5ea813-d5cd-4caf-80eb-8ccb3dd286c6",
   "metadata": {},
   "outputs": [],
   "source": [
    "old_men.agg({'Fare': 'Avg'})"
   ]
  },
  {
   "cell_type": "code",
   "execution_count": null,
   "id": "8d5fab86-738f-4167-9eaf-60082cfcbd41",
   "metadata": {},
   "outputs": [],
   "source": [
    "old_men.groupBy('Pclass').count().orderBy('Pclass', ascending=False)"
   ]
  },
  {
   "cell_type": "markdown",
   "id": "94c55fd2-4934-486f-8abf-943e133ff721",
   "metadata": {},
   "source": [
    "### do some fun stuff with UDFs"
   ]
  },
  {
   "cell_type": "code",
   "execution_count": null,
   "id": "4819d494-cc44-4588-b63f-257e64eff6a5",
   "metadata": {},
   "outputs": [],
   "source": [
    "??udf"
   ]
  },
  {
   "cell_type": "code",
   "execution_count": null,
   "id": "15caf87d-5931-404e-a1d4-a2a33622c8be",
   "metadata": {},
   "outputs": [],
   "source": [
    "from pyspark.sql.functions import udf\n",
    "from pyspark.sql.types import BooleanType\n",
    "\n",
    "def is_that_expensive(x):\n",
    "    return x > 50\n",
    "\n",
    "expensive_udf = udf(is_that_expensive, BooleanType())"
   ]
  },
  {
   "cell_type": "code",
   "execution_count": null,
   "id": "539f8153-c244-4370-90e6-9481a0713ac8",
   "metadata": {},
   "outputs": [],
   "source": [
    "df.select('Fare', expensive_udf('Fare'))"
   ]
  }
 ],
 "metadata": {
  "kernelspec": {
   "display_name": "Python 3 (ipykernel)",
   "language": "python",
   "name": "python3"
  },
  "language_info": {
   "codemirror_mode": {
    "name": "ipython",
    "version": 3
   },
   "file_extension": ".py",
   "mimetype": "text/x-python",
   "name": "python",
   "nbconvert_exporter": "python",
   "pygments_lexer": "ipython3",
   "version": "3.8.8"
  }
 },
 "nbformat": 4,
 "nbformat_minor": 5
}
