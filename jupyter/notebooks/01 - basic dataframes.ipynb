{
 "cells": [
  {
   "cell_type": "code",
   "execution_count": null,
   "id": "38e27403-d112-4db1-ade7-e0516a5454f3",
   "metadata": {},
   "outputs": [],
   "source": [
    "from datetime import date, datetime\n",
    "\n",
    "import pandas as pd\n",
    "from pyspark.sql import Row, SparkSession\n",
    "\n",
    "spark = SparkSession.builder.getOrCreate()"
   ]
  },
  {
   "cell_type": "markdown",
   "id": "85c664b0-0293-4ae2-9cca-90b8b25a8ce7",
   "metadata": {},
   "source": [
    "### spark df from a pandas df"
   ]
  },
  {
   "cell_type": "code",
   "execution_count": null,
   "id": "b26a9b53-87a4-4235-8a74-bccf382016a9",
   "metadata": {},
   "outputs": [],
   "source": [
    "pandas_df = pd.DataFrame(\n",
    "    {\n",
    "        \"a\": [1, 2, 3],\n",
    "        \"b\": [2.0, 3.0, 4.0],\n",
    "        \"c\": [\"string1\", \"string2\", \"string3\"],\n",
    "        \"d\": [date(2000, 1, 1), date(2000, 2, 1), date(2000, 3, 1)],\n",
    "        \"e\": [\n",
    "            datetime(2000, 1, 1, 12, 0),\n",
    "            datetime(2000, 1, 2, 12, 0),\n",
    "            datetime(2000, 1, 3, 12, 0),\n",
    "        ],\n",
    "    }\n",
    ")\n",
    "\n",
    "spark_df = spark.createDataFrame(pandas_df)\n",
    "spark_df"
   ]
  },
  {
   "cell_type": "markdown",
   "id": "771ce593-098c-4fe4-9223-10de900df710",
   "metadata": {},
   "source": [
    "### spark df from a spark rdd"
   ]
  },
  {
   "cell_type": "code",
   "execution_count": null,
   "id": "78ee3c35-a9f3-4b54-a627-c5d754feb9cb",
   "metadata": {},
   "outputs": [],
   "source": [
    "rdd = spark.sparkContext.parallelize(\n",
    "    [\n",
    "        (1, 2.0, \"string1\", date(2000, 1, 1), datetime(2000, 1, 1, 12, 0)),\n",
    "        (2, 3.0, \"string2\", date(2000, 2, 1), datetime(2000, 1, 2, 12, 0)),\n",
    "        (3, 4.0, \"string3\", date(2000, 3, 1), datetime(2000, 1, 3, 12, 0)),\n",
    "        (4, 5.0, \"string4\", date(2000, 4, 1), datetime(2000, 1, 4, 12, 0)),\n",
    "        (5, 6.0, \"string5\", date(2000, 5, 1), datetime(2000, 1, 5, 12, 0)),\n",
    "        (6, 7.0, \"string6\", date(2000, 6, 1), datetime(2000, 1, 6, 12, 0)),\n",
    "    ]\n",
    ")\n",
    "df = spark.createDataFrame(rdd, schema=[\"a\", \"b\", \"c\", \"d\", \"e\"])\n",
    "df"
   ]
  },
  {
   "cell_type": "code",
   "execution_count": null,
   "id": "a48cbfb7-d57a-4165-99d9-c63ddcfa4a9b",
   "metadata": {},
   "outputs": [],
   "source": [
    "df.printSchema()"
   ]
  },
  {
   "cell_type": "code",
   "execution_count": null,
   "id": "ed708c6c-1f17-4e86-800a-1f5023217227",
   "metadata": {},
   "outputs": [],
   "source": [
    "df.show(4)"
   ]
  },
  {
   "cell_type": "markdown",
   "id": "4ce3a62d-ce61-415f-af9e-f813a62b59c3",
   "metadata": {},
   "source": [
    "### tweak some config for df display"
   ]
  },
  {
   "cell_type": "code",
   "execution_count": null,
   "id": "0a0759d5-ae32-437d-b377-bc6856be8e2f",
   "metadata": {},
   "outputs": [],
   "source": [
    "spark.conf.set(\"spark.sql.repl.eagerEval.enabled\", True)\n",
    "spark.conf.set(\"spark.sql.repl.eagerEval.maxNumRows\", 5)"
   ]
  },
  {
   "cell_type": "code",
   "execution_count": null,
   "id": "c5375e82-c053-4c28-88c4-0160ae483250",
   "metadata": {},
   "outputs": [],
   "source": [
    "df"
   ]
  },
  {
   "cell_type": "markdown",
   "id": "8a030f42-4d94-460b-8858-25acd2716282",
   "metadata": {},
   "source": [
    "### filtering"
   ]
  },
  {
   "cell_type": "code",
   "execution_count": null,
   "id": "03a60668-6b4d-4a23-aba0-7e8d7ba529f4",
   "metadata": {},
   "outputs": [],
   "source": [
    "df.filter(df.a == 1).show()"
   ]
  },
  {
   "cell_type": "markdown",
   "id": "e9db9cf5-545b-4f75-88de-f4a4851fce2f",
   "metadata": {},
   "source": [
    "### functions"
   ]
  },
  {
   "cell_type": "code",
   "execution_count": null,
   "id": "096106ce-c261-46a3-8213-07c6d20d7519",
   "metadata": {},
   "outputs": [],
   "source": [
    "import pandas\n",
    "from pyspark.sql.functions import pandas_udf"
   ]
  },
  {
   "cell_type": "code",
   "execution_count": null,
   "id": "4b3db865-6dde-48ab-b0d9-f7c97ccb3cd4",
   "metadata": {},
   "outputs": [],
   "source": [
    "@pandas_udf(\"long\")\n",
    "def pandas_plus_ten(series: pd.Series) -> pd.Series:\n",
    "    return series + 10"
   ]
  },
  {
   "cell_type": "code",
   "execution_count": null,
   "id": "8fd10a7a-340f-4767-8e74-371559e029c3",
   "metadata": {},
   "outputs": [],
   "source": [
    "df.select(pandas_plus_ten(df.a)).show()"
   ]
  },
  {
   "cell_type": "code",
   "execution_count": null,
   "id": "8f465922-4241-4149-9542-8dcc97ebc6cb",
   "metadata": {},
   "outputs": [],
   "source": [
    "def pandas_filter_func(iterator):\n",
    "    for pandas_df in iterator:\n",
    "        yield pandas_df[pandas_df.a == 2]\n",
    "\n",
    "\n",
    "df.mapInPandas(pandas_filter_func, schema=df.schema).show()"
   ]
  },
  {
   "cell_type": "markdown",
   "id": "2ea7604b-4fe3-43a1-b843-da3c162d2130",
   "metadata": {},
   "source": [
    "### grouping"
   ]
  },
  {
   "cell_type": "code",
   "execution_count": null,
   "id": "899bcf02-4ef8-460b-a04e-f939783073ee",
   "metadata": {},
   "outputs": [],
   "source": [
    "df = spark.createDataFrame(\n",
    "    [\n",
    "        [\"red\", \"banana\", 1, 10],\n",
    "        [\"blue\", \"banana\", 2, 20],\n",
    "        [\"red\", \"carrot\", 3, 30],\n",
    "        [\"blue\", \"grape\", 4, 40],\n",
    "        [\"red\", \"carrot\", 5, 50],\n",
    "        [\"black\", \"carrot\", 6, 60],\n",
    "        [\"red\", \"banana\", 7, 70],\n",
    "        [\"red\", \"grape\", 8, 80],\n",
    "    ],\n",
    "    schema=[\"color\", \"fruit\", \"v1\", \"v2\"],\n",
    ")\n",
    "df"
   ]
  },
  {
   "cell_type": "code",
   "execution_count": null,
   "id": "dc0acf8f-0e73-4859-9fb7-ee2cba7af927",
   "metadata": {},
   "outputs": [],
   "source": [
    "df.groupby(\"color\").avg(\"v1\")"
   ]
  },
  {
   "cell_type": "code",
   "execution_count": null,
   "id": "61918e7b-484b-46de-928f-f082dcdda5bd",
   "metadata": {},
   "outputs": [],
   "source": []
  }
 ],
 "metadata": {
  "kernelspec": {
   "display_name": "Python 3 (ipykernel)",
   "language": "python",
   "name": "python3"
  },
  "language_info": {
   "codemirror_mode": {
    "name": "ipython",
    "version": 3
   },
   "file_extension": ".py",
   "mimetype": "text/x-python",
   "name": "python",
   "nbconvert_exporter": "python",
   "pygments_lexer": "ipython3",
   "version": "3.8.8"
  }
 },
 "nbformat": 4,
 "nbformat_minor": 5
}
