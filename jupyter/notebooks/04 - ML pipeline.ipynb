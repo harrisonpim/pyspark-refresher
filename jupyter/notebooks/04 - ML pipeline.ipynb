{
 "cells": [
  {
   "cell_type": "markdown",
   "id": "1922f3ee-531c-4a79-9656-1363d7bcaea5",
   "metadata": {
    "tags": []
   },
   "source": [
    "# very basic ML pipeline\n",
    "I think producing a random forest classifier which predicts survival for the titanic dataset would be a good exercise"
   ]
  },
  {
   "cell_type": "code",
   "execution_count": null,
   "id": "bd83cc05-040f-4ce9-944b-97b3c2153a0e",
   "metadata": {},
   "outputs": [],
   "source": [
    "import pandas as pd\n",
    "from pyspark.ml import Pipeline\n",
    "from pyspark.ml.classification import RandomForestClassifier, GBTClassifier\n",
    "from pyspark.ml.evaluation import MulticlassClassificationEvaluator\n",
    "from pyspark.ml.feature import OneHotEncoder, StringIndexer, VectorAssembler\n",
    "from pyspark.sql import Row, SparkSession"
   ]
  },
  {
   "cell_type": "code",
   "execution_count": null,
   "id": "1fe08439-cc70-417b-91d2-d265511e5858",
   "metadata": {},
   "outputs": [],
   "source": [
    "spark = SparkSession.builder.getOrCreate()\n",
    "spark.conf.set(\"spark.sql.repl.eagerEval.enabled\", True)\n",
    "spark.conf.set(\"spark.sql.repl.eagerEval.maxNumRows\", 5)"
   ]
  },
  {
   "cell_type": "code",
   "execution_count": null,
   "id": "c95ba9be-8048-441d-a374-e269dbc8a691",
   "metadata": {},
   "outputs": [],
   "source": [
    "df = spark.read.csv(\"../data/titanic.csv\", header=True, inferSchema=True)"
   ]
  },
  {
   "cell_type": "markdown",
   "id": "db82f2ce-999d-417f-bc4b-68843075ec87",
   "metadata": {},
   "source": [
    "### create a pipeline a pipeline to numerically encode all the useful data"
   ]
  },
  {
   "cell_type": "code",
   "execution_count": null,
   "id": "c5b8f67e-75f3-47de-bc5b-285d34ec6825",
   "metadata": {},
   "outputs": [],
   "source": [
    "pipeline = Pipeline(\n",
    "    stages=[\n",
    "        OneHotEncoder(inputCols=[\"Pclass\"], outputCols=[\"Pclass_ohe\"]),\n",
    "        StringIndexer(inputCol=\"Sex\", outputCol=\"Sex_index\"),\n",
    "        OneHotEncoder(inputCols=[\"Sex_index\"], outputCols=[\"Sex_ohe\"]),\n",
    "        VectorAssembler(\n",
    "            inputCols=[\n",
    "                \"Pclass_ohe\",\n",
    "                \"Sex_ohe\",\n",
    "                \"Age\",\n",
    "                \"Siblings/Spouses Aboard\",\n",
    "                \"Parents/Children Aboard\",\n",
    "                \"Fare\",\n",
    "            ],\n",
    "            outputCol=\"features\",\n",
    "        ),\n",
    "    ]\n",
    ").fit(df)"
   ]
  },
  {
   "cell_type": "code",
   "execution_count": null,
   "id": "8438f62a-af3c-4264-9910-505d32aa61ca",
   "metadata": {
    "tags": []
   },
   "outputs": [],
   "source": [
    "df = pipeline.transform(df).select([\"features\", \"Survived\"])"
   ]
  },
  {
   "cell_type": "markdown",
   "id": "6384fa4f-8428-47c5-8184-da91602eb872",
   "metadata": {},
   "source": [
    "### stratified train/test split\n",
    "it's important that we get an equal proportion of the predicted class in the train and test datasets"
   ]
  },
  {
   "cell_type": "code",
   "execution_count": null,
   "id": "ccc7916e-324b-40d9-a14d-0e7598d5604d",
   "metadata": {},
   "outputs": [],
   "source": [
    "df.groupBy(\"Survived\").count().show()"
   ]
  },
  {
   "cell_type": "code",
   "execution_count": null,
   "id": "dbc41aaa-4d2d-490e-b3dc-32d640b1a500",
   "metadata": {},
   "outputs": [],
   "source": [
    "df_train = df.sampleBy(\"Survived\", fractions={0: 0.8, 1: 0.8}, seed=10)\n",
    "df_test = df.subtract(df_train)"
   ]
  },
  {
   "cell_type": "code",
   "execution_count": null,
   "id": "64890df2-16e4-4a34-a62c-689fc632d9f4",
   "metadata": {},
   "outputs": [],
   "source": [
    "df_train.count(), df_test.count()"
   ]
  },
  {
   "cell_type": "code",
   "execution_count": null,
   "id": "2899a632-65a4-4c23-94e9-4558ebc12fd6",
   "metadata": {},
   "outputs": [],
   "source": [
    "df_train.groupBy(\"Survived\").count().show()"
   ]
  },
  {
   "cell_type": "code",
   "execution_count": null,
   "id": "0200fdd1-4c00-4b29-b024-fc284c9d8ddd",
   "metadata": {},
   "outputs": [],
   "source": [
    "df_test.groupBy(\"Survived\").count().show()"
   ]
  },
  {
   "cell_type": "markdown",
   "id": "0063240d-0dfb-4b2f-8097-1934a4938561",
   "metadata": {},
   "source": [
    "## Random forest"
   ]
  },
  {
   "cell_type": "code",
   "execution_count": null,
   "id": "6b91c574-2bc0-4852-a554-d6f68b59bbdd",
   "metadata": {},
   "outputs": [],
   "source": [
    "classifier = RandomForestClassifier(labelCol=\"Survived\", featuresCol=\"features\").fit(df_train)"
   ]
  },
  {
   "cell_type": "code",
   "execution_count": null,
   "id": "d7e90185-8941-412b-9d4e-d7f825a602b0",
   "metadata": {},
   "outputs": [],
   "source": [
    "predictions = classifier.transform(df_test)"
   ]
  },
  {
   "cell_type": "code",
   "execution_count": null,
   "id": "417ffac0-dc8c-4bd1-9dee-c097c75871e1",
   "metadata": {},
   "outputs": [],
   "source": [
    "predictions"
   ]
  },
  {
   "cell_type": "markdown",
   "id": "99470df9-5fe1-4834-8dc0-3dec9a95a605",
   "metadata": {},
   "source": [
    "### assess precision and accuracy"
   ]
  },
  {
   "cell_type": "code",
   "execution_count": null,
   "id": "2d7e3854-92f4-4267-98a6-d80c2ebb4e1e",
   "metadata": {},
   "outputs": [],
   "source": [
    "evaluator = (\n",
    "    MulticlassClassificationEvaluator()\n",
    "    .setLabelCol(\"Survived\")\n",
    "    .setPredictionCol(\"prediction\")\n",
    ")"
   ]
  },
  {
   "cell_type": "code",
   "execution_count": null,
   "id": "0d4c4a30-e7f1-4c95-bfd9-dba7d9af3fed",
   "metadata": {},
   "outputs": [],
   "source": [
    "evaluator.evaluate(predictions, {evaluator.metricName: \"weightedPrecision\"})"
   ]
  },
  {
   "cell_type": "code",
   "execution_count": null,
   "id": "e63cbc63-5ac5-414b-a5af-73523a45bae8",
   "metadata": {},
   "outputs": [],
   "source": [
    "evaluator.evaluate(predictions, {evaluator.metricName: \"accuracy\"})"
   ]
  },
  {
   "cell_type": "markdown",
   "id": "6fde353c-26e7-4f84-8727-c1378f8d2443",
   "metadata": {},
   "source": [
    "## Try gradient boosting instead"
   ]
  },
  {
   "cell_type": "code",
   "execution_count": null,
   "id": "8c5ea6f3-2a61-4bd3-a961-beff37d7919e",
   "metadata": {},
   "outputs": [],
   "source": [
    "classifier = GBTClassifier(labelCol=\"Survived\",featuresCol=\"features\", maxIter=10).fit(df_train)"
   ]
  },
  {
   "cell_type": "code",
   "execution_count": null,
   "id": "d8f70dfb-fefc-441f-a91d-614cbb98f945",
   "metadata": {},
   "outputs": [],
   "source": [
    "predictions = classifier.transform(df_test)"
   ]
  },
  {
   "cell_type": "code",
   "execution_count": null,
   "id": "2a187383-8b79-45aa-92b9-f354cedf72ea",
   "metadata": {},
   "outputs": [],
   "source": [
    "predictions"
   ]
  },
  {
   "cell_type": "markdown",
   "id": "1eba2e83-9f80-4396-9518-21cd442c5183",
   "metadata": {},
   "source": [
    "### assess precision and accuracy"
   ]
  },
  {
   "cell_type": "code",
   "execution_count": null,
   "id": "e74424a0-e7fd-4158-a414-56e60d7014e8",
   "metadata": {},
   "outputs": [],
   "source": [
    "evaluator.evaluate(predictions, {evaluator.metricName: \"weightedPrecision\"})"
   ]
  },
  {
   "cell_type": "code",
   "execution_count": null,
   "id": "c8e8e6b9-6182-4cc8-af0e-3a04b5106629",
   "metadata": {},
   "outputs": [],
   "source": [
    "evaluator.evaluate(predictions, {evaluator.metricName: \"accuracy\"})"
   ]
  },
  {
   "cell_type": "markdown",
   "id": "13fcba6b-32f7-4d63-a17f-6cb1549d8aa6",
   "metadata": {},
   "source": [
    "# wrapping up\n",
    "\n",
    "Note that this model could be _muuuuuuch_ better if I spent more time on the data preprocessing steps - this is an incredibly basic approach, but sophistication isn't the point of this project."
   ]
  },
  {
   "cell_type": "code",
   "execution_count": null,
   "id": "948745b8-b8dd-4075-bc28-7a5be28ef850",
   "metadata": {},
   "outputs": [],
   "source": []
  }
 ],
 "metadata": {
  "kernelspec": {
   "display_name": "Python 3 (ipykernel)",
   "language": "python",
   "name": "python3"
  },
  "language_info": {
   "codemirror_mode": {
    "name": "ipython",
    "version": 3
   },
   "file_extension": ".py",
   "mimetype": "text/x-python",
   "name": "python",
   "nbconvert_exporter": "python",
   "pygments_lexer": "ipython3",
   "version": "3.8.8"
  }
 },
 "nbformat": 4,
 "nbformat_minor": 5
}
