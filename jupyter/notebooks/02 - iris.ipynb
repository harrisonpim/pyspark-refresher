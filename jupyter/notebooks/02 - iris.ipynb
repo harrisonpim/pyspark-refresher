{
 "cells": [
  {
   "cell_type": "code",
   "execution_count": null,
   "id": "49ec3a31-63ee-4fca-a530-de2fb8345055",
   "metadata": {},
   "outputs": [],
   "source": [
    "from datetime import date, datetime\n",
    "\n",
    "import pandas as pd\n",
    "from pyspark.sql import Row, SparkSession\n",
    "from pyspark.sql.functions import col\n",
    "from pyspark.sql.types import DoubleType, StringType, StructField, StructType"
   ]
  },
  {
   "cell_type": "code",
   "execution_count": null,
   "id": "7e5ef6ae-2d9e-4872-afcb-5056e6c196c4",
   "metadata": {},
   "outputs": [],
   "source": [
    "spark = SparkSession.builder.getOrCreate()\n",
    "spark.conf.set(\"spark.sql.repl.eagerEval.enabled\", True)\n",
    "spark.conf.set(\"spark.sql.repl.eagerEval.maxNumRows\", 5)"
   ]
  },
  {
   "cell_type": "markdown",
   "id": "8e29f45a-47d7-4c8f-9cec-75ac94328f9b",
   "metadata": {
    "tags": []
   },
   "source": [
    "### reading data"
   ]
  },
  {
   "cell_type": "code",
   "execution_count": null,
   "id": "e9b8715e-bbdc-4c85-9175-e4d2f81f6705",
   "metadata": {},
   "outputs": [],
   "source": [
    "schema = StructType(\n",
    "    [\n",
    "        StructField(\"sepal_length\", DoubleType(), True),\n",
    "        StructField(\"sepal_width\", DoubleType(), True),\n",
    "        StructField(\"petal_length\", DoubleType(), True),\n",
    "        StructField(\"petal_width\", DoubleType(), True),\n",
    "        StructField(\"species\", StringType(), True),\n",
    "    ]\n",
    ")\n",
    "df = spark.read.csv(\"../data/iris.csv\", header=False, schema=schema)"
   ]
  },
  {
   "cell_type": "code",
   "execution_count": null,
   "id": "056f9822-9493-443b-998a-40392a56cd03",
   "metadata": {},
   "outputs": [],
   "source": [
    "df"
   ]
  },
  {
   "cell_type": "code",
   "execution_count": null,
   "id": "acb06511-8f4a-4d57-92ec-c6e12a194117",
   "metadata": {},
   "outputs": [],
   "source": [
    "df.printSchema()"
   ]
  },
  {
   "cell_type": "code",
   "execution_count": null,
   "id": "d3d847da-4d9e-430c-9d19-a48dc9d5357c",
   "metadata": {},
   "outputs": [],
   "source": [
    "df.columns"
   ]
  },
  {
   "cell_type": "code",
   "execution_count": null,
   "id": "e5c6412e-c802-4d36-b7a9-dac494dd35c5",
   "metadata": {},
   "outputs": [],
   "source": [
    "df.count()"
   ]
  },
  {
   "cell_type": "code",
   "execution_count": null,
   "id": "1f9980e5-3924-41aa-8cbe-51e634c35b1a",
   "metadata": {},
   "outputs": [],
   "source": [
    "df.describe()"
   ]
  },
  {
   "cell_type": "code",
   "execution_count": null,
   "id": "b5ed0f13-30af-4838-ab4b-44d96e885298",
   "metadata": {},
   "outputs": [],
   "source": [
    "df.select(df.sepal_length)"
   ]
  },
  {
   "cell_type": "code",
   "execution_count": null,
   "id": "ccf2cebf-aacc-4487-a7b3-36dce5bce9ea",
   "metadata": {},
   "outputs": [],
   "source": [
    "filtered_df = df.filter((df.sepal_length > 5) & (df.sepal_width > 3))"
   ]
  },
  {
   "cell_type": "code",
   "execution_count": null,
   "id": "ec061d15-31a8-4e16-ba48-d80b8b9e22a1",
   "metadata": {},
   "outputs": [],
   "source": [
    "filtered_df.count()"
   ]
  },
  {
   "cell_type": "markdown",
   "id": "7c1bdc45-42ab-4431-8c40-810626f19548",
   "metadata": {},
   "source": [
    "### do the equivalent of pandas `df.value_counts()`"
   ]
  },
  {
   "cell_type": "code",
   "execution_count": null,
   "id": "6f448f5b-3a5d-4e4c-9a88-99ee6b8f3026",
   "metadata": {},
   "outputs": [],
   "source": [
    "filtered_df.groupBy(\"species\").count().orderBy(\"count\", ascending=False)"
   ]
  },
  {
   "cell_type": "code",
   "execution_count": null,
   "id": "6c82f38d-f6f7-417d-9623-5c4acae12a46",
   "metadata": {},
   "outputs": [],
   "source": [
    "df.groupBy(\"species\").count().orderBy(\"count\", ascending=False)"
   ]
  },
  {
   "cell_type": "markdown",
   "id": "ce397147-c77d-462e-a7c3-1bcf45af14fb",
   "metadata": {},
   "source": [
    "### find the top decile petal area?"
   ]
  },
  {
   "cell_type": "code",
   "execution_count": null,
   "id": "5d6f91a8-1339-44f9-9c84-82a5c42eda08",
   "metadata": {},
   "outputs": [],
   "source": [
    "(\n",
    "    df.withColumn(\"petal_area\", col(\"petal_length\") * col(\"petal_width\"))\n",
    "    .orderBy(\"petal_area\", ascending=False)\n",
    "    .show(df.count() // 10)\n",
    ")"
   ]
  },
  {
   "cell_type": "markdown",
   "id": "0e40fc57-4765-4de0-aa2c-ca2d6a861212",
   "metadata": {},
   "source": [
    "### find the top decile sepal area?"
   ]
  },
  {
   "cell_type": "code",
   "execution_count": null,
   "id": "49f9bebf-42c6-414d-b713-d5b7b55932c9",
   "metadata": {},
   "outputs": [],
   "source": [
    "(\n",
    "    df.withColumn(\"sepal_area\", col(\"sepal_length\") * col(\"sepal_width\"))\n",
    "    .orderBy(\"sepal_area\", ascending=False)\n",
    "    .show(df.count() // 10)\n",
    ")"
   ]
  },
  {
   "cell_type": "code",
   "execution_count": null,
   "id": "4df4c066-47e3-4d7b-a6df-b1e576a3f593",
   "metadata": {},
   "outputs": [],
   "source": []
  }
 ],
 "metadata": {
  "kernelspec": {
   "display_name": "Python 3 (ipykernel)",
   "language": "python",
   "name": "python3"
  },
  "language_info": {
   "codemirror_mode": {
    "name": "ipython",
    "version": 3
   },
   "file_extension": ".py",
   "mimetype": "text/x-python",
   "name": "python",
   "nbconvert_exporter": "python",
   "pygments_lexer": "ipython3",
   "version": "3.8.8"
  }
 },
 "nbformat": 4,
 "nbformat_minor": 5
}
